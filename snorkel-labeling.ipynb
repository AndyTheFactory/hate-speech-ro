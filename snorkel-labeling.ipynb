{
 "cells": [
  {
   "cell_type": "code",
   "execution_count": 223,
   "metadata": {},
   "outputs": [],
   "source": [
    "from metal.label_model import LabelModel\n",
    "from metal.analysis import lf_summary, label_coverage, single_lf_summary, error_buckets\n",
    "from metal.label_model.baselines import MajorityLabelVoter\n",
    "# from metal.viewer import SentenceNgramViewer\n",
    "\n",
    "import re\n",
    "import json\n",
    "import pandas as pd\n",
    "import numpy as np\n",
    "from scipy import sparse\n",
    "import matplotlib.pyplot as plt\n",
    "from sklearn.metrics import confusion_matrix, f1_score\n",
    "from pandas.io.json import json_normalize\n",
    "pd.set_option('display.max_colwidth', -1)"
   ]
  },
  {
   "cell_type": "code",
   "execution_count": 2,
   "metadata": {},
   "outputs": [
    {
     "name": "stdout",
     "output_type": "stream",
     "text": [
      "text    8166\n",
      "dtype: int64\n"
     ]
    },
    {
     "data": {
      "text/html": [
       "<div>\n",
       "<style scoped>\n",
       "    .dataframe tbody tr th:only-of-type {\n",
       "        vertical-align: middle;\n",
       "    }\n",
       "\n",
       "    .dataframe tbody tr th {\n",
       "        vertical-align: top;\n",
       "    }\n",
       "\n",
       "    .dataframe thead th {\n",
       "        text-align: right;\n",
       "    }\n",
       "</style>\n",
       "<table border=\"1\" class=\"dataframe\">\n",
       "  <thead>\n",
       "    <tr style=\"text-align: right;\">\n",
       "      <th></th>\n",
       "      <th>text</th>\n",
       "    </tr>\n",
       "  </thead>\n",
       "  <tbody>\n",
       "    <tr>\n",
       "      <th>0</th>\n",
       "      <td>Asta este familia traditionala!👿👿👿</td>\n",
       "    </tr>\n",
       "    <tr>\n",
       "      <th>1</th>\n",
       "      <td>Ia să vedem cu ce ne mai surprinzi ce perle mai scoți pe gurița ta din căpușorul ăla gol cel porți pe umeri madam analfabeta secolului 😡</td>\n",
       "    </tr>\n",
       "    <tr>\n",
       "      <th>2</th>\n",
       "      <td>si a trebuit sa mearga in bulgaria  sa faca o crima,cind il avem in romania pe dracnea</td>\n",
       "    </tr>\n",
       "    <tr>\n",
       "      <th>3</th>\n",
       "      <td>Consider că viața nare limite și nu trebuie sa depindă de bani. E super intenția. Respect, respect.</td>\n",
       "    </tr>\n",
       "    <tr>\n",
       "      <th>4</th>\n",
       "      <td>Biserica sa și vadă de Aminu ei și să nu se bage n politică!Boii ăștia îndepărtează lumea de biserica cu bună știință! Exact ca în cazul Islamismului, românii vor ajunge să și spargă capetele pe strada fiind prostiți de popi .Apare cate un ninjalau aparent credibil și i destul să i aburească pe proști</td>\n",
       "    </tr>\n",
       "  </tbody>\n",
       "</table>\n",
       "</div>"
      ],
      "text/plain": [
       "                                                                                                                                                                                                                                                                                                             text\n",
       "0  Asta este familia traditionala!👿👿👿                                                                                                                                                                                                                                                                            \n",
       "1  Ia să vedem cu ce ne mai surprinzi ce perle mai scoți pe gurița ta din căpușorul ăla gol cel porți pe umeri madam analfabeta secolului 😡                                                                                                                                                                      \n",
       "2  si a trebuit sa mearga in bulgaria  sa faca o crima,cind il avem in romania pe dracnea                                                                                                                                                                                                                        \n",
       "3  Consider că viața nare limite și nu trebuie sa depindă de bani. E super intenția. Respect, respect.                                                                                                                                                                                                           \n",
       "4  Biserica sa și vadă de Aminu ei și să nu se bage n politică!Boii ăștia îndepărtează lumea de biserica cu bună știință! Exact ca în cazul Islamismului, românii vor ajunge să și spargă capetele pe strada fiind prostiți de popi .Apare cate un ninjalau aparent credibil și i destul să i aburească pe proști"
      ]
     },
     "execution_count": 2,
     "metadata": {},
     "output_type": "execute_result"
    }
   ],
   "source": [
    "# unlabeled_comments_df = pd.read_csv('referendum_comments.csv')\n",
    "# print(unlabeled_comments_df.count())\n",
    "# unlabeled_comments_df.head()"
   ]
  },
  {
   "cell_type": "code",
   "execution_count": 3,
   "metadata": {},
   "outputs": [
    {
     "data": {
      "text/plain": [
       "text    3872\n",
       "dtype: int64"
      ]
     },
     "execution_count": 3,
     "metadata": {},
     "output_type": "execute_result"
    }
   ],
   "source": [
    "# unlabeled_comments_df.drop_duplicates(inplace=True)\n",
    "# #remove comments with less than 5 words\n",
    "# unlabeled_comments_df = unlabeled_comments_df[unlabeled_comments_df['text'].apply(lambda x: len(x.split(' ')) > 4 )]\n",
    "# unlabeled_comments_df = unlabeled_comments_df['text'].reset_index()\n",
    "# unlabeled_comments_df.drop(columns=['index'], inplace=True)\n",
    "# unlabeled_comments_df.count()"
   ]
  },
  {
   "cell_type": "code",
   "execution_count": 4,
   "metadata": {},
   "outputs": [],
   "source": [
    "# unlabeled_comments_df.to_csv('comments_cleaned.csv')"
   ]
  },
  {
   "cell_type": "code",
   "execution_count": 5,
   "metadata": {},
   "outputs": [
    {
     "data": {
      "text/html": [
       "<div>\n",
       "<style scoped>\n",
       "    .dataframe tbody tr th:only-of-type {\n",
       "        vertical-align: middle;\n",
       "    }\n",
       "\n",
       "    .dataframe tbody tr th {\n",
       "        vertical-align: top;\n",
       "    }\n",
       "\n",
       "    .dataframe thead th {\n",
       "        text-align: right;\n",
       "    }\n",
       "</style>\n",
       "<table border=\"1\" class=\"dataframe\">\n",
       "  <thead>\n",
       "    <tr style=\"text-align: right;\">\n",
       "      <th></th>\n",
       "      <th>text</th>\n",
       "      <th>label</th>\n",
       "    </tr>\n",
       "  </thead>\n",
       "  <tbody>\n",
       "    <tr>\n",
       "      <th>0</th>\n",
       "      <td>Bebelus aruncat in sacul de gunoi de cei ce trebuiau sa aibe grija de viata lui nemernici la puscarie</td>\n",
       "      <td>2</td>\n",
       "    </tr>\n",
       "    <tr>\n",
       "      <th>1</th>\n",
       "      <td>Sa se duca si sa se mai intoarca,cand il astept eu in poarta🤬😡MUIE MULTA PSD🖕🏻🖕🏾💩</td>\n",
       "      <td>2</td>\n",
       "    </tr>\n",
       "    <tr>\n",
       "      <th>2</th>\n",
       "      <td>Cine te mai asculta infractorule stai dracu in banca  ta ca ti-a trecut vremea.</td>\n",
       "      <td>2</td>\n",
       "    </tr>\n",
       "    <tr>\n",
       "      <th>4</th>\n",
       "      <td>Nu le cunosc numele, dar cel in cămașa neagră care este homosexual, este cel mai inteligent dintre toți. Ca de obicei, traditionalii sunt tampi</td>\n",
       "      <td>2</td>\n",
       "    </tr>\n",
       "    <tr>\n",
       "      <th>5</th>\n",
       "      <td>Nucleul ce stă la baza societății este familia. Familia are drepturi și obligații în societate. Obligația și datoria morală de bază a familiei este de a contribui la dezvoltarea și creșterea societății prin procreere, în primul rând. Atâta timp cât familia formată din două persoane de același sex nu poate respecta cea mai importantă datorie în societate, NU poate pretinde același drepturi!!! Restul e cancan.</td>\n",
       "      <td>1</td>\n",
       "    </tr>\n",
       "  </tbody>\n",
       "</table>\n",
       "</div>"
      ],
      "text/plain": [
       "                                                                                                                                                                                                                                                                                                                                                                                                                          text  \\\n",
       "0  Bebelus aruncat in sacul de gunoi de cei ce trebuiau sa aibe grija de viata lui nemernici la puscarie                                                                                                                                                                                                                                                                                                                         \n",
       "1  Sa se duca si sa se mai intoarca,cand il astept eu in poarta🤬😡MUIE MULTA PSD🖕🏻🖕🏾💩                                                                                                                                                                                                                                                                                                                                             \n",
       "2  Cine te mai asculta infractorule stai dracu in banca  ta ca ti-a trecut vremea.                                                                                                                                                                                                                                                                                                                                               \n",
       "4  Nu le cunosc numele, dar cel in cămașa neagră care este homosexual, este cel mai inteligent dintre toți. Ca de obicei, traditionalii sunt tampi                                                                                                                                                                                                                                                                               \n",
       "5  Nucleul ce stă la baza societății este familia. Familia are drepturi și obligații în societate. Obligația și datoria morală de bază a familiei este de a contribui la dezvoltarea și creșterea societății prin procreere, în primul rând. Atâta timp cât familia formată din două persoane de același sex nu poate respecta cea mai importantă datorie în societate, NU poate pretinde același drepturi!!! Restul e cancan.   \n",
       "\n",
       "   label  \n",
       "0  2      \n",
       "1  2      \n",
       "2  2      \n",
       "4  2      \n",
       "5  1      "
      ]
     },
     "execution_count": 5,
     "metadata": {},
     "output_type": "execute_result"
    }
   ],
   "source": [
    "#annotations from prodigy \n",
    "\n",
    "# json_path = \"hate-speech-709labels.jsonl\"\n",
    "# j_content = []\n",
    "# with open(json_path) as f:\n",
    "#     for line in f:\n",
    "#         j_content.append(json.loads(line))\n",
    "\n",
    "# # Loading into pandas dataframe\n",
    "# labeled_comments_df = json_normalize(j_content)\n",
    "# labeled_comments_df = labeled_comments_df[['text', 'answer']]\n",
    "# labeled_comments_df = labeled_comments_df[labeled_comments_df['answer'] != 'ignore']\n",
    "# labeled_comments_df.rename(columns={'answer':'label'}, inplace=True)\n",
    "# di = {'accept': 1, 'reject': 2}\n",
    "# labeled_comments_df.replace({'label': di}, inplace=True)\n",
    "# labeled_comments_df.drop_duplicates(inplace=True)\n",
    "# #remove comments with less than 5 words\n",
    "# labeled_comments_df = labeled_comments_df[labeled_comments_df['text'].apply(lambda x: len(x.split(' ')) > 4 )]\n",
    "# labeled_comments_df.head()"
   ]
  },
  {
   "cell_type": "code",
   "execution_count": 247,
   "metadata": {},
   "outputs": [],
   "source": [
    "#annotations from snorkel + manual correction\n",
    "labeled_comments_df = pd.read_csv('hate-speech-labeled-corrected.csv', sep=';')\n",
    "labeled_comments_df.drop(columns=['Unnamed: 0'], inplace=True)\n",
    "\n",
    "\n",
    "unlabeled_comments_df = labeled_comments_df[1501:-1]\n",
    "labeled_comments_df = labeled_comments_df[:1501]"
   ]
  },
  {
   "cell_type": "code",
   "execution_count": 248,
   "metadata": {},
   "outputs": [],
   "source": [
    "unlabeled_comments_df = unlabeled_comments_df['text'].reset_index()\n",
    "unlabeled_comments_df.drop(columns=['index'], inplace=True)"
   ]
  },
  {
   "cell_type": "code",
   "execution_count": 249,
   "metadata": {},
   "outputs": [
    {
     "data": {
      "text/html": [
       "<div>\n",
       "<style scoped>\n",
       "    .dataframe tbody tr th:only-of-type {\n",
       "        vertical-align: middle;\n",
       "    }\n",
       "\n",
       "    .dataframe tbody tr th {\n",
       "        vertical-align: top;\n",
       "    }\n",
       "\n",
       "    .dataframe thead th {\n",
       "        text-align: right;\n",
       "    }\n",
       "</style>\n",
       "<table border=\"1\" class=\"dataframe\">\n",
       "  <thead>\n",
       "    <tr style=\"text-align: right;\">\n",
       "      <th></th>\n",
       "      <th>text</th>\n",
       "    </tr>\n",
       "    <tr>\n",
       "      <th>label</th>\n",
       "      <th></th>\n",
       "    </tr>\n",
       "  </thead>\n",
       "  <tbody>\n",
       "    <tr>\n",
       "      <th>1</th>\n",
       "      <td>280</td>\n",
       "    </tr>\n",
       "    <tr>\n",
       "      <th>2</th>\n",
       "      <td>1221</td>\n",
       "    </tr>\n",
       "  </tbody>\n",
       "</table>\n",
       "</div>"
      ],
      "text/plain": [
       "       text\n",
       "label      \n",
       "1      280 \n",
       "2      1221"
      ]
     },
     "execution_count": 249,
     "metadata": {},
     "output_type": "execute_result"
    }
   ],
   "source": [
    "labeled_comments_df.groupby('label').count()"
   ]
  },
  {
   "cell_type": "code",
   "execution_count": 250,
   "metadata": {},
   "outputs": [],
   "source": [
    "labels = labeled_comments_df['label'].tolist()\n",
    "comments = labeled_comments_df['text'].reset_index()\n",
    "comments.drop(columns=['index'], inplace=True)"
   ]
  },
  {
   "cell_type": "code",
   "execution_count": null,
   "metadata": {},
   "outputs": [],
   "source": [
    "FAMILY = r\"\"\"\\b(da pentru familie|familia formată  prin căsătoria|familia heterosexuala|\n",
    "                familia heterosexuală|mamă şi cu tată|mama şi tata|mama si tata|barbat si femeie|\n",
    "                bărbat şi femeie|barbat şi femeie)\"\"\"\n",
    "def contains_family_expressions(text):\n",
    "    return POSITIVE if re.search(FAMILY, text) else ABSTAIN"
   ]
  },
  {
   "cell_type": "code",
   "execution_count": 251,
   "metadata": {},
   "outputs": [],
   "source": [
    "ABSTAIN = 0 \n",
    "POSITIVE = 1\n",
    "NEGATIVE = 2\n",
    "\n",
    "ANTI_REFERENDUM = r\"\"\"\\b(manipulat|divizat|afacerişti|diaspora|propaganda|propagandă|referendumul este o manipulare|libertatea|parteneriat|civil|drepturi|referendum inutil|referundum penibil|referendum invalid|probleme mai grave|abuz de putere|manipulare|dezinformare|dezinforma)\"\"\"\n",
    "def contains_antireferendum_expressions(text):\n",
    "    return NEGATIVE if re.search(ANTI_REFERENDUM, text) else ABSTAIN\n",
    "\n",
    "CHURCH = r\"\"\"\\b(BOR|popi|preoțimea|preotimea|preoțime|preotime)\"\"\"\n",
    "def contains_church_expressions(text):\n",
    "    return NEGATIVE if re.search(CHURCH, text) else ABSTAIN\n",
    "\n",
    "RIGHTS = r\"\"\"\\b(comunitatea lgbt|libertatea|parteneriat|civil|drepturi|partenerial civil|drept|legalizarea parteneriatelor)\"\"\"\n",
    "def contains_rights_expressions(text):\n",
    "    return NEGATIVE if re.search(RIGHTS, text) else ABSTAIN\n",
    "\n",
    "QUESTION = r\"\"\"\\b(ambiguă|limba romana|limba română|formulat complicat|formulată complicat|formulata complicat|întrebare capcană|intrebare capcană|intrebare capcana|ambiguu|e ambiguă)\"\"\"\n",
    "def contains_question_expressions(text):\n",
    "    return NEGATIVE if re.search(QUESTION, text) else ABSTAIN\n",
    "\n",
    "MONEY_USE = r\"\"\"\\b(bani|bani pierduti|infrastrctura|infrastrctură|sanatate|sănătate|pensie|pensii|alocatie|alocatii|alocații|40 de mil|40 de milioane|43 de milioane|scoala|scoali|şcoala|şcoali|spital|spitale|orfelinat|orfelinate|bani mulți|bani multi|fraudă|frauda|autostrada|autostradă)\"\"\"\n",
    "def contains_moneyuse_expressions(text):\n",
    "    return NEGATIVE if re.search(MONEY_USE, text) else ABSTAIN\n",
    "\n",
    "AGAINST_VOTE = r\"\"\"\\b(stau acasa|stau acasă|stai acasa|stai acasă|nu votului|merg la plimbare|boicot|boicotez|boicotăm|boicotam|nu merg la vot)\"\"\"\n",
    "def contains_against_vote_expressions(text):\n",
    "    return NEGATIVE if re.search(AGAINST_VOTE, text) else ABSTAIN\n",
    "\n",
    "AGAINST_POLITICIAN = r\"\"\"\\b(hotiii?|tatuca|ciumei|infractor|infractorule|alegeri|alagerile|dady|daddy|muie|PSD|penal|penali|dragnea|dracnea|ciuma|ciumă|analfabeti|analfabeți|mafiot|mafioți|demisia|să-i împușcați|să-i omorâți|închiși|pușcărie|muie PSD)\"\"\"\n",
    "def contains_against_politician_expressions(text):\n",
    "    return NEGATIVE if re.search(AGAINST_POLITICIAN, text) else ABSTAIN\n",
    "\n",
    "INSULT= r\"\"\"\\b(putori|zoofili?|drogati?|necrofili?|bolnavi? mintal|debili?|vierme|nemernicia|nimicuri|scursuri|scârbos|scârboșenie|lucrui scârboase)\"\"\"\n",
    "def contains_insult_expressions(text):\n",
    "    return POSITIVE if re.search(INSULT, text) else ABSTAIN\n",
    "\n",
    "OBSCEN= r\"\"\"\\b(suge-ti|sugeti|suji|ia in cur|futu-te-n cur|fut in cur|lins in pizda|se fut in cur|fut|cur|poponet|poponeț|poponarii|poponar)\"\"\"\n",
    "def contains_obscen_expressions(text):\n",
    "    return POSITIVE if re.search(OBSCEN, text) else ABSTAIN\n",
    "\n",
    "FAMILY = r\"\"\"\\b(da pentru familie|familia formată  prin căsătoria|familia heterosexuala|familia heterosexuală|mamă şi cu tată|mama şi tata|mama si tata|barbat si femeie|bărbat şi femeie|barbat şi femeie)\"\"\"\n",
    "def contains_family_expressions(text):\n",
    "    return POSITIVE if re.search(FAMILY, text) else ABSTAIN\n",
    "\n",
    "NORMALITY = r\"\"\"\\b(bun simt|impotriva firii|împotriva firii|valori|normalitate|normal|lume normală|lume normala|valori autentice|valori morale|demnitate|moralitate|moralitatii)\"\"\"\n",
    "def contains_normality_expressions(text):\n",
    "    return POSITIVE if re.search(NORMALITY, text) else ABSTAIN\n",
    "\n",
    "CHILDREN = r\"\"\"\\b(copii|viitorul copiilor|furtul de copii|furturi de copii|viitorul nepoților|viitorul nepotilor|naste copii|naşte copii)\"\"\"\n",
    "def contains_children_expressions(text):\n",
    "    return POSITIVE if re.search(CHILDREN, text) else ABSTAIN\n",
    "\n",
    "RELIGION = r\"\"\"\\b(tara crestina|crestin|crestini|sodomiti|sodomitii|satan|satana|sodoma|gomora|sodoma si gomora|sodoma şi gomora|credința creştină|credinta crestina|ateu|atei|iisus|isus|hristos|dumnezeu|este păcat|este pacat|religie ortodoxă|diavol|diavolicesc|diavolesc|drăcesc)\"\"\"\n",
    "def contains_religion_expressions(text):\n",
    "    return POSITIVE if re.search(RELIGION, text) else ABSTAIN\n",
    "\n",
    "IDEOLOGY = r\"\"\"\\b(progresist|progresism|progresivismul|marxismul|sexo-marxismului|neomarxismului|neomarxism|globalizare|globalism|globalismului|ideologia|perversiuni|pervers|ideologie|ideologie de gen|trans|transgender|doi bărbați|doi barbati|două femei|doua femei)\"\"\"\n",
    "def contains_ideology_expressions(text):\n",
    "    return POSITIVE if re.search(IDEOLOGY, text) else ABSTAIN\n",
    "\n",
    "HOMOSEXUALITY = r\"\"\"\\b(homalaii|anal|bulangiu|bulangii|barbat cu barbat|bărbat cu bărbat|femeie cu femeie|masturbare|sida|hiv|activistilor lgbtq?|activist lgbtq|pro-?lgbt|anti-?lgtb|căsătoria gay|căsătorii gay|cuplu homosexual|victorie homosexialilor|victorie a homosexualilor|homalău|curcubeu|homosexual|lgbt|vin homosexualii|problema cu homosexualitatea|homo|ghei|lesbi|lezbi|homosexualii acestia|homosexualitatea este)\"\"\"\n",
    "def contains_homosexuality_expressions(text):\n",
    "    return POSITIVE if re.search(HOMOSEXUALITY, text) else ABSTAIN\n",
    "\n",
    "PRO_VOTE = r\"\"\"\\b(ne vedem la referendum|mobilizam|mobilizăm|petitia online|petiția|merg la vot|da votului|hai la referendum|hai la vot|votez da|votăm da|votam da|da pentru referendum)\"\"\"\n",
    "def contains_pro_vote_expressions(text):\n",
    "    return POSITIVE if re.search(PRO_VOTE, text) else ABSTAIN\n",
    "\n",
    "PRO_REFERENDUM = r\"\"\"\\b(3 milioane de crestini|3 milioane de creştini|initiativa|inițiativa|3 milioane de semnatari|3 milioane de semnături|3 milioane|3.000.000|3,000,000 de cetateni)\"\"\"\n",
    "def contains_proreferendum_expressions(text):\n",
    "    return POSITIVE if re.search(PRO_REFERENDUM, text) else ABSTAIN\n",
    "\n",
    "# Termenul „homosexualitate”, poate fi încadrat la categoria de termeni ai DIU, prin raportarea\n",
    "# negativă asupra acestora de către susținătorii faamilie tradiționale: „Problema cu homosexuali este o\n",
    "# treaba serioasa...”, „vin homosexualii sa va ia copiii”„ homosexualitatea este o boala si un pacat”,\n",
    "# „homosexualii acestia nenorociti din cauza carora Romania o duce atat de rau”, etc"
   ]
  },
  {
   "cell_type": "code",
   "execution_count": 252,
   "metadata": {},
   "outputs": [],
   "source": [
    "LFs = [\n",
    "    contains_against_politician_expressions,\n",
    "    contains_rights_expressions,\n",
    "    contains_church_expressions,\n",
    "    contains_question_expressions,\n",
    "    contains_moneyuse_expressions,\n",
    "    contains_against_vote_expressions,\n",
    "    contains_antireferendum_expressions,\n",
    "    contains_children_expressions,\n",
    "    contains_family_expressions,\n",
    "    contains_normality_expressions,\n",
    "    contains_insult_expressions,\n",
    "    contains_pro_vote_expressions,\n",
    "    contains_ideology_expressions,\n",
    "    contains_obscen_expressions,\n",
    "    contains_homosexuality_expressions,\n",
    "#     contains_proreferendum_expressions,\n",
    "    contains_religion_expressions\n",
    "]\n",
    "\n",
    "LF_names = [\n",
    "    'against_politician',\n",
    "    'rights',\n",
    "    'church',\n",
    "    'question',\n",
    "    'money_use',\n",
    "    'against_vote',\n",
    "    'antireferendum',\n",
    "    'children',\n",
    "    'family',\n",
    "    'normality',\n",
    "    'insult',\n",
    "    'pro_vote',\n",
    "    'ideology',\n",
    "    'obscen',\n",
    "    'homosexuality',\n",
    "#     'proreferendum',\n",
    "    'religion'\n",
    "]"
   ]
  },
  {
   "cell_type": "code",
   "execution_count": 253,
   "metadata": {},
   "outputs": [],
   "source": [
    "def make_Ls_matrix(data, LFs):\n",
    "    noisy_labels = np.empty((len(data), len(LFs)))\n",
    "    for i, row in data.iterrows():\n",
    "        for j, lf in enumerate(LFs):\n",
    "            noisy_labels[i][j] = lf(row.values[0].lower())\n",
    "    return noisy_labels"
   ]
  },
  {
   "cell_type": "code",
   "execution_count": 254,
   "metadata": {},
   "outputs": [],
   "source": [
    "LF_matrix = make_Ls_matrix(comments, LFs)\n",
    "Y_LF_set = np.array([labels[i] for i in range(len(labels))])"
   ]
  },
  {
   "cell_type": "code",
   "execution_count": 255,
   "metadata": {},
   "outputs": [
    {
     "name": "stdout",
     "output_type": "stream",
     "text": [
      "(1501, 16)\n",
      "(1501,)\n",
      "16\n",
      "16\n"
     ]
    }
   ],
   "source": [
    "print(LF_matrix.shape)\n",
    "print(Y_LF_set.shape)\n",
    "print(len(LF_names))\n",
    "print(len(LFs))"
   ]
  },
  {
   "cell_type": "code",
   "execution_count": 256,
   "metadata": {},
   "outputs": [
    {
     "data": {
      "text/html": [
       "<div>\n",
       "<style scoped>\n",
       "    .dataframe tbody tr th:only-of-type {\n",
       "        vertical-align: middle;\n",
       "    }\n",
       "\n",
       "    .dataframe tbody tr th {\n",
       "        vertical-align: top;\n",
       "    }\n",
       "\n",
       "    .dataframe thead th {\n",
       "        text-align: right;\n",
       "    }\n",
       "</style>\n",
       "<table border=\"1\" class=\"dataframe\">\n",
       "  <thead>\n",
       "    <tr style=\"text-align: right;\">\n",
       "      <th></th>\n",
       "      <th>j</th>\n",
       "      <th>Polarity</th>\n",
       "      <th>Coverage</th>\n",
       "      <th>Overlaps</th>\n",
       "      <th>Conflicts</th>\n",
       "      <th>Correct</th>\n",
       "      <th>Incorrect</th>\n",
       "      <th>Emp. Acc.</th>\n",
       "    </tr>\n",
       "  </thead>\n",
       "  <tbody>\n",
       "    <tr>\n",
       "      <th>against_politician</th>\n",
       "      <td>0</td>\n",
       "      <td>2.0</td>\n",
       "      <td>0.092605</td>\n",
       "      <td>0.044637</td>\n",
       "      <td>0.027315</td>\n",
       "      <td>124</td>\n",
       "      <td>15</td>\n",
       "      <td>0.892086</td>\n",
       "    </tr>\n",
       "    <tr>\n",
       "      <th>rights</th>\n",
       "      <td>1</td>\n",
       "      <td>2.0</td>\n",
       "      <td>0.073284</td>\n",
       "      <td>0.063957</td>\n",
       "      <td>0.039973</td>\n",
       "      <td>84</td>\n",
       "      <td>26</td>\n",
       "      <td>0.763636</td>\n",
       "    </tr>\n",
       "    <tr>\n",
       "      <th>church</th>\n",
       "      <td>2</td>\n",
       "      <td>2.0</td>\n",
       "      <td>0.010660</td>\n",
       "      <td>0.006662</td>\n",
       "      <td>0.003331</td>\n",
       "      <td>16</td>\n",
       "      <td>0</td>\n",
       "      <td>1.000000</td>\n",
       "    </tr>\n",
       "    <tr>\n",
       "      <th>question</th>\n",
       "      <td>3</td>\n",
       "      <td>2.0</td>\n",
       "      <td>0.005996</td>\n",
       "      <td>0.002665</td>\n",
       "      <td>0.001999</td>\n",
       "      <td>8</td>\n",
       "      <td>1</td>\n",
       "      <td>0.888889</td>\n",
       "    </tr>\n",
       "    <tr>\n",
       "      <th>money_use</th>\n",
       "      <td>4</td>\n",
       "      <td>2.0</td>\n",
       "      <td>0.083944</td>\n",
       "      <td>0.045969</td>\n",
       "      <td>0.033311</td>\n",
       "      <td>117</td>\n",
       "      <td>9</td>\n",
       "      <td>0.928571</td>\n",
       "    </tr>\n",
       "    <tr>\n",
       "      <th>against_vote</th>\n",
       "      <td>5</td>\n",
       "      <td>2.0</td>\n",
       "      <td>0.031979</td>\n",
       "      <td>0.020653</td>\n",
       "      <td>0.013991</td>\n",
       "      <td>41</td>\n",
       "      <td>7</td>\n",
       "      <td>0.854167</td>\n",
       "    </tr>\n",
       "    <tr>\n",
       "      <th>antireferendum</th>\n",
       "      <td>6</td>\n",
       "      <td>2.0</td>\n",
       "      <td>0.083278</td>\n",
       "      <td>0.063291</td>\n",
       "      <td>0.040640</td>\n",
       "      <td>98</td>\n",
       "      <td>27</td>\n",
       "      <td>0.784000</td>\n",
       "    </tr>\n",
       "    <tr>\n",
       "      <th>children</th>\n",
       "      <td>7</td>\n",
       "      <td>1.0</td>\n",
       "      <td>0.115256</td>\n",
       "      <td>0.099267</td>\n",
       "      <td>0.035310</td>\n",
       "      <td>92</td>\n",
       "      <td>81</td>\n",
       "      <td>0.531792</td>\n",
       "    </tr>\n",
       "    <tr>\n",
       "      <th>family</th>\n",
       "      <td>8</td>\n",
       "      <td>1.0</td>\n",
       "      <td>0.017322</td>\n",
       "      <td>0.015989</td>\n",
       "      <td>0.002665</td>\n",
       "      <td>20</td>\n",
       "      <td>6</td>\n",
       "      <td>0.769231</td>\n",
       "    </tr>\n",
       "    <tr>\n",
       "      <th>normality</th>\n",
       "      <td>9</td>\n",
       "      <td>1.0</td>\n",
       "      <td>0.097268</td>\n",
       "      <td>0.075949</td>\n",
       "      <td>0.019320</td>\n",
       "      <td>91</td>\n",
       "      <td>55</td>\n",
       "      <td>0.623288</td>\n",
       "    </tr>\n",
       "    <tr>\n",
       "      <th>insult</th>\n",
       "      <td>10</td>\n",
       "      <td>1.0</td>\n",
       "      <td>0.006662</td>\n",
       "      <td>0.005330</td>\n",
       "      <td>0.001332</td>\n",
       "      <td>6</td>\n",
       "      <td>4</td>\n",
       "      <td>0.600000</td>\n",
       "    </tr>\n",
       "    <tr>\n",
       "      <th>pro_vote</th>\n",
       "      <td>11</td>\n",
       "      <td>1.0</td>\n",
       "      <td>0.057961</td>\n",
       "      <td>0.039307</td>\n",
       "      <td>0.009993</td>\n",
       "      <td>51</td>\n",
       "      <td>36</td>\n",
       "      <td>0.586207</td>\n",
       "    </tr>\n",
       "    <tr>\n",
       "      <th>ideology</th>\n",
       "      <td>12</td>\n",
       "      <td>1.0</td>\n",
       "      <td>0.037308</td>\n",
       "      <td>0.032645</td>\n",
       "      <td>0.010660</td>\n",
       "      <td>37</td>\n",
       "      <td>19</td>\n",
       "      <td>0.660714</td>\n",
       "    </tr>\n",
       "    <tr>\n",
       "      <th>obscen</th>\n",
       "      <td>13</td>\n",
       "      <td>1.0</td>\n",
       "      <td>0.062625</td>\n",
       "      <td>0.043971</td>\n",
       "      <td>0.017988</td>\n",
       "      <td>41</td>\n",
       "      <td>53</td>\n",
       "      <td>0.436170</td>\n",
       "    </tr>\n",
       "    <tr>\n",
       "      <th>homosexuality</th>\n",
       "      <td>14</td>\n",
       "      <td>1.0</td>\n",
       "      <td>0.097268</td>\n",
       "      <td>0.076616</td>\n",
       "      <td>0.028648</td>\n",
       "      <td>77</td>\n",
       "      <td>69</td>\n",
       "      <td>0.527397</td>\n",
       "    </tr>\n",
       "    <tr>\n",
       "      <th>religion</th>\n",
       "      <td>15</td>\n",
       "      <td>1.0</td>\n",
       "      <td>0.139241</td>\n",
       "      <td>0.093271</td>\n",
       "      <td>0.021985</td>\n",
       "      <td>104</td>\n",
       "      <td>105</td>\n",
       "      <td>0.497608</td>\n",
       "    </tr>\n",
       "  </tbody>\n",
       "</table>\n",
       "</div>"
      ],
      "text/plain": [
       "                     j  Polarity  Coverage  Overlaps  Conflicts  Correct  \\\n",
       "against_politician  0   2.0       0.092605  0.044637  0.027315   124       \n",
       "rights              1   2.0       0.073284  0.063957  0.039973   84        \n",
       "church              2   2.0       0.010660  0.006662  0.003331   16        \n",
       "question            3   2.0       0.005996  0.002665  0.001999   8         \n",
       "money_use           4   2.0       0.083944  0.045969  0.033311   117       \n",
       "against_vote        5   2.0       0.031979  0.020653  0.013991   41        \n",
       "antireferendum      6   2.0       0.083278  0.063291  0.040640   98        \n",
       "children            7   1.0       0.115256  0.099267  0.035310   92        \n",
       "family              8   1.0       0.017322  0.015989  0.002665   20        \n",
       "normality           9   1.0       0.097268  0.075949  0.019320   91        \n",
       "insult              10  1.0       0.006662  0.005330  0.001332   6         \n",
       "pro_vote            11  1.0       0.057961  0.039307  0.009993   51        \n",
       "ideology            12  1.0       0.037308  0.032645  0.010660   37        \n",
       "obscen              13  1.0       0.062625  0.043971  0.017988   41        \n",
       "homosexuality       14  1.0       0.097268  0.076616  0.028648   77        \n",
       "religion            15  1.0       0.139241  0.093271  0.021985   104       \n",
       "\n",
       "                    Incorrect  Emp. Acc.  \n",
       "against_politician  15         0.892086   \n",
       "rights              26         0.763636   \n",
       "church              0          1.000000   \n",
       "question            1          0.888889   \n",
       "money_use           9          0.928571   \n",
       "against_vote        7          0.854167   \n",
       "antireferendum      27         0.784000   \n",
       "children            81         0.531792   \n",
       "family              6          0.769231   \n",
       "normality           55         0.623288   \n",
       "insult              4          0.600000   \n",
       "pro_vote            36         0.586207   \n",
       "ideology            19         0.660714   \n",
       "obscen              53         0.436170   \n",
       "homosexuality       69         0.527397   \n",
       "religion            105        0.497608   "
      ]
     },
     "execution_count": 256,
     "metadata": {},
     "output_type": "execute_result"
    }
   ],
   "source": [
    "lf_summary(sparse.csr_matrix(LF_matrix),\n",
    "           Y=Y_LF_set,\n",
    "           lf_names=LF_names)"
   ]
  },
  {
   "cell_type": "code",
   "execution_count": 257,
   "metadata": {},
   "outputs": [],
   "source": [
    "#error analysis\n",
    "noisy_labels = np.empty((len(comments)))\n",
    "for i, row in comments.iterrows():\n",
    "    noisy_labels[i] = contains_insult_expressions(row.values[0].lower())\n",
    "\n",
    "# buckets[1,1] = true positives\n",
    "# buckets[1,2] = false positives\n",
    "# buckets[2,1] = false negatives\n",
    "# buckets[2,2] = true negatives    \n",
    "buckets = error_buckets(labels, noisy_labels.tolist(), comments['text'].tolist())"
   ]
  },
  {
   "cell_type": "code",
   "execution_count": 258,
   "metadata": {},
   "outputs": [
    {
     "name": "stdout",
     "output_type": "stream",
     "text": [
      "Overall, we reach a coverage ratio of 0.56 over the training subset.\n",
      "Overall, we reach a coverage ratio of 0.46 over the whole training set.\n"
     ]
    }
   ],
   "source": [
    "LF_matrix = make_Ls_matrix(comments, LFs)\n",
    "print(\"Overall, we reach a coverage ratio of\", round(label_coverage(LF_matrix), 2), \"over the training subset.\")\n",
    "\n",
    "LF_matrix_full_dataset = make_Ls_matrix(unlabeled_comments_df, LFs)\n",
    "print(\"Overall, we reach a coverage ratio of\", round(label_coverage(LF_matrix_full_dataset), 2), \"over the whole training set.\")"
   ]
  },
  {
   "cell_type": "code",
   "execution_count": 259,
   "metadata": {},
   "outputs": [
    {
     "name": "stdout",
     "output_type": "stream",
     "text": [
      "text    1268\n",
      "dtype: int64\n"
     ]
    }
   ],
   "source": [
    "def covered_data_points(L):\n",
    "    \"\"\"Returns an indicator vector where ith element = 1 if x_i is labeled by at\n",
    "    least one LF.\"\"\"\n",
    "    return np.ravel(np.where(L.sum(axis=1) != 0, 1, 0))\n",
    "\n",
    "covered_vec = covered_data_points(LF_matrix_full_dataset)\n",
    "i, = np.where(covered_vec == 0)\n",
    "print(unlabeled_comments_df.iloc[i].count())\n",
    "# unlabeled_comments_df.iloc[i]['text'].tolist()"
   ]
  },
  {
   "cell_type": "code",
   "execution_count": 260,
   "metadata": {},
   "outputs": [
    {
     "name": "stdout",
     "output_type": "stream",
     "text": [
      "Basic majority vote labels performance:\n",
      "Accuracy: 0.597\n",
      "Precision: 0.300\n",
      "Recall: 0.871\n",
      "F1: 0.446\n",
      "        y=1    y=2   \n",
      " l=1    244    569   \n",
      " l=2    36     652   \n"
     ]
    }
   ],
   "source": [
    "mv = MajorityLabelVoter()\n",
    "Ls_train = make_Ls_matrix(comments, LFs)\n",
    "\n",
    "mv = MajorityLabelVoter(seed=42)\n",
    "print(\"Basic majority vote labels performance:\")\n",
    "scores = mv.score((Ls_train, Y_LF_set), metric=['accuracy','precision', 'recall', 'f1'])"
   ]
  },
  {
   "cell_type": "code",
   "execution_count": 261,
   "metadata": {},
   "outputs": [
    {
     "name": "stdout",
     "output_type": "stream",
     "text": [
      "Computing O...\n",
      "Estimating \\mu...\n",
      "Finished Training\n"
     ]
    }
   ],
   "source": [
    "Ls_train = make_Ls_matrix(comments, LFs)\n",
    "\n",
    "label_model = LabelModel(k=2, seed=42)\n",
    "label_model.train_model(Ls_train,\n",
    "                        Y_dev=Y_LF_set,\n",
    "                        n_epochs=1000,\n",
    "                        lr=0.0001,\n",
    "                        class_balance=np.array([0.2, 0.8]),\n",
    "                        log_train_every=2000)"
   ]
  },
  {
   "cell_type": "code",
   "execution_count": 262,
   "metadata": {},
   "outputs": [
    {
     "name": "stdout",
     "output_type": "stream",
     "text": [
      "Snorkel generated labels performance:\n",
      "Accuracy: 0.884\n",
      "Precision: 0.750\n",
      "Recall: 0.568\n",
      "F1: 0.646\n",
      "        y=1    y=2   \n",
      " l=1    159    53    \n",
      " l=2    121   1168   \n"
     ]
    }
   ],
   "source": [
    "Ls_train = make_Ls_matrix(comments, LFs)\n",
    "Y_train_ps = label_model.predict_proba(Ls_train)\n",
    "\n",
    "print(\"Snorkel generated labels performance:\")\n",
    "scores = label_model.score((Ls_train, Y_LF_set), metric=['accuracy','precision', 'recall', 'f1'])"
   ]
  },
  {
   "cell_type": "code",
   "execution_count": 263,
   "metadata": {},
   "outputs": [
    {
     "data": {
      "text/html": [
       "<div>\n",
       "<style scoped>\n",
       "    .dataframe tbody tr th:only-of-type {\n",
       "        vertical-align: middle;\n",
       "    }\n",
       "\n",
       "    .dataframe tbody tr th {\n",
       "        vertical-align: top;\n",
       "    }\n",
       "\n",
       "    .dataframe thead th {\n",
       "        text-align: right;\n",
       "    }\n",
       "</style>\n",
       "<table border=\"1\" class=\"dataframe\">\n",
       "  <thead>\n",
       "    <tr style=\"text-align: right;\">\n",
       "      <th></th>\n",
       "      <th>text</th>\n",
       "    </tr>\n",
       "    <tr>\n",
       "      <th>label</th>\n",
       "      <th></th>\n",
       "    </tr>\n",
       "  </thead>\n",
       "  <tbody>\n",
       "    <tr>\n",
       "      <th>2</th>\n",
       "      <td>2358</td>\n",
       "    </tr>\n",
       "  </tbody>\n",
       "</table>\n",
       "</div>"
      ],
      "text/plain": [
       "       text\n",
       "label      \n",
       "2      2358"
      ]
     },
     "execution_count": 263,
     "metadata": {},
     "output_type": "execute_result"
    }
   ],
   "source": [
    "#label the whole dataset with trained model function\n",
    "Ls_train_full = make_Ls_matrix(unlabeled_comments_df, LFs)\n",
    "Y_train_full = label_model.predict(Ls_train_full)\n",
    "comments_labels = pd.DataFrame(Y_train_full, columns=['label'])\n",
    "comments_labels_full = pd.concat([unlabeled_comments_df, comments_labels], axis=1)\n",
    "comments_labels_full.groupby('label').count()"
   ]
  },
  {
   "cell_type": "code",
   "execution_count": 211,
   "metadata": {},
   "outputs": [
    {
     "name": "stdout",
     "output_type": "stream",
     "text": [
      "text     2863\n",
      "label    2863\n",
      "dtype: int64\n",
      "text     1000\n",
      "label    1000\n",
      "dtype: int64\n"
     ]
    }
   ],
   "source": [
    "# iterate over the new labels and add them to the corrected dataset\n",
    "\n",
    "# labeled_comments_df.sort_values(by='label', inplace=True)\n",
    "# comments_labels_full.sort_values(by='label', inplace=True)\n",
    "\n",
    "# frame_for_csv = pd.concat([labeled_comments_df, comments_labels_full])\n",
    "# frame_for_csv.groupby('label').count()\n",
    "# print(frame_for_csv.count())\n",
    "\n",
    "# frame_for_csv.to_csv('hate-speech-labeled-corrected.csv')"
   ]
  },
  {
   "cell_type": "code",
   "execution_count": 218,
   "metadata": {},
   "outputs": [
    {
     "data": {
      "image/png": "[encoded data removed]",
      "text/plain": [
       "<Figure size 432x288 with 1 Axes>"
      ]
     },
     "metadata": {
      "needs_background": "light"
     },
     "output_type": "display_data"
    },
    {
     "data": {
      "image/png": "[encoded data removed]",
      "text/plain": [
       "<Figure size 432x288 with 1 Axes>"
      ]
     },
     "metadata": {
      "needs_background": "light"
     },
     "output_type": "display_data"
    },
    {
     "data": {
      "image/png": "[encoded data removed]",
      "text/plain": [
       "<Figure size 432x288 with 1 Axes>"
      ]
     },
     "metadata": {
      "needs_background": "light"
     },
     "output_type": "display_data"
    }
   ],
   "source": [
    "from metal.contrib.visualization.analysis import (\n",
    "    plot_predictions_histogram, \n",
    "    plot_probabilities_histogram,\n",
    ")\n",
    "\n",
    "plot_predictions_histogram(Y_LF_set,\n",
    "                           label_model.predict(Ls_train),\n",
    "                           title=\"Label Distribution\")\n",
    "\n",
    "Y_dev_ps = label_model.predict_proba(Ls_train)\n",
    "plot_probabilities_histogram(Y_dev_ps[:, 0],\n",
    "                             title=\"Probablistic Label Distribution for POSITIVE\")\n",
    "plot_probabilities_histogram(Y_dev_ps[:, 1],\n",
    "                             title=\"Probablistic Label Distribution for NEGATIVE\")\n"
   ]
  },
  {
   "cell_type": "code",
   "execution_count": 219,
   "metadata": {},
   "outputs": [
    {
     "name": "stdout",
     "output_type": "stream",
     "text": [
      "O întrebare către susținătorii referendumului pentru Adam și Eva:  Am nevoie de o lămurire cu privire la teoria evoluției omenirii în varianta religioasă/biblică. Conform bibliei,avem: Dumbezeu=>Adam și Eva=>Cain,Abel și Set. Cum a evoluat specia umana(cum s-au înmulțit)? Prin incest? Printr-un incest perpetu? Mulțumesc anticipat! \n",
      "\n",
      " [0.2 0.8]\n"
     ]
    }
   ],
   "source": [
    "print(unlabeled_comments_df.iloc[500][0], \"\\n\\n\", Y_train_ps[500])"
   ]
  },
  {
   "cell_type": "code",
   "execution_count": 220,
   "metadata": {},
   "outputs": [
    {
     "name": "stdout",
     "output_type": "stream",
     "text": [
      "Voi credeți că dacă se face REFERENDUM dispare homosexuali aici ie mana lui Cariatul de Dragnea sa mai fure niște bani \n",
      "\n",
      " [0.2 0.8]\n"
     ]
    }
   ],
   "source": [
    "print(unlabeled_comments_df.iloc[700][0], \"\\n\\n\", Y_train_ps[700])"
   ]
  },
  {
   "cell_type": "code",
   "execution_count": 221,
   "metadata": {},
   "outputs": [
    {
     "name": "stdout",
     "output_type": "stream",
     "text": [
      "POSITIVE for hate: \n",
      "\n",
      "[210 156  46 141 232] \n",
      "\n",
      "Nu merg la vot!! E cel mai bine!! Refuz sa merg la vot. \n",
      "\n",
      "[0.97421036 0.02578964]\n",
      "-------------------------------------------------------------------------------------------------------------------\n",
      "Gunoaiele astea au facut României mai mult rău decât bine ! La noi este o lupta pentru suprematie , Romania merge la vale..... \n",
      "\n",
      "[0.91819882 0.08180118]\n",
      "-------------------------------------------------------------------------------------------------------------------\n",
      "Va dati mari credinciosi dar ati vrea sa ii razuiti/impuscati/strangeti de gat...vai mama voastra....de credinta nu mai zic... \n",
      "\n",
      "[0.91622265 0.08377735]\n",
      "-------------------------------------------------------------------------------------------------------------------\n",
      "Bravo băieți !!! I-ați sfidat!!!! \n",
      "\n",
      "[0.91270568 0.08729432]\n",
      "-------------------------------------------------------------------------------------------------------------------\n",
      "Votăm da pentru familia dintr-un bărbat și o femeie! \n",
      "\n",
      "[0.8968931 0.1031069]\n",
      "-------------------------------------------------------------------------------------------------------------------\n"
     ]
    }
   ],
   "source": [
    "print(\"POSITIVE for hate:\", \"\\n\")\n",
    "pos_sorted_idx = np.argsort(Y_train_ps[:, 0])\n",
    "print(pos_sorted_idx[-5:], \"\\n\")\n",
    "for i in range(5):\n",
    "    idx = pos_sorted_idx[-i-1]\n",
    "    print(unlabeled_comments_df.iloc[idx][0], \"\\n\")\n",
    "    print(Y_train_ps[idx])\n",
    "    print('-' * 115)"
   ]
  },
  {
   "cell_type": "code",
   "execution_count": 222,
   "metadata": {},
   "outputs": [
    {
     "name": "stdout",
     "output_type": "stream",
     "text": [
      "NEGATIVE for hate: \n",
      "\n",
      "[534 346 399 104 621] \n",
      "\n",
      "Mai se scurg 4 milioane de euro în loc să construiți spitale că mor copii pe capete și bătrînii și vouă nici că nu vă pasă. Așa să vă ajute bunul Dumnezeu pe cum faceți. Amin \n",
      "\n",
      "[4.17125947e-04 9.99582874e-01]\n",
      "-------------------------------------------------------------------------------------------------------------------\n",
      "Ma idiotilor care cheltuiti banii nostri lasati porcaria asta si occupati Va de probleme mai importante \n",
      "\n",
      "[4.73465804e-04 9.99526534e-01]\n",
      "-------------------------------------------------------------------------------------------------------------------\n",
      "Proastă tari demisia habar nu ai sa vb corect și coerent limba română \n",
      "\n",
      "[5.87493013e-04 9.99412507e-01]\n",
      "-------------------------------------------------------------------------------------------------------------------\n",
      "Toti oameni fara valori sant \"penali\" Tocmai s-a pierdut un Referendum al valorilor fara \"penali\" dar ati pierdut șansa. \n",
      "\n",
      "[8.55143938e-04 9.99144856e-01]\n",
      "-------------------------------------------------------------------------------------------------------------------\n",
      "Vinovati sunt cei care au facut buletinul de vot de ce nu au scris clar ce votam si atunci era foarte multa lume la vot .Neam cam saturat de minciuni .se cam desteapta romani incetul cu incetu \n",
      "\n",
      "[8.55143938e-04 9.99144856e-01]\n",
      "-------------------------------------------------------------------------------------------------------------------\n"
     ]
    }
   ],
   "source": [
    "print(\"NEGATIVE for hate:\", \"\\n\")\n",
    "neg_sorted_idx = np.argsort(Y_train_ps[:, 1])\n",
    "print(neg_sorted_idx[-5:], \"\\n\")\n",
    "for i in range(5):\n",
    "    idx = neg_sorted_idx[-i-1]\n",
    "    print(unlabeled_comments_df.iloc[idx][0], \"\\n\")\n",
    "    print(Y_train_ps[idx])\n",
    "    print('-' * 115)"
   ]
  },
  {
   "cell_type": "code",
   "execution_count": null,
   "metadata": {},
   "outputs": [],
   "source": []
  }
 ],
 "metadata": {
  "kernelspec": {
   "display_name": "Python 3",
   "language": "python",
   "name": "python3"
  },
  "language_info": {
   "codemirror_mode": {
    "name": "ipython",
    "version": 3
   },
   "file_extension": ".py",
   "mimetype": "text/x-python",
   "name": "python",
   "nbconvert_exporter": "python",
   "pygments_lexer": "ipython3",
   "version": "3.7.1"
  }
 },
 "nbformat": 4,
 "nbformat_minor": 2
}
